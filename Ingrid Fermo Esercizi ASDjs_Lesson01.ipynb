{
 "metadata": {
  "name": ""
 },
 "nbformat": 3,
 "nbformat_minor": 0,
 "worksheets": [
  {
   "cells": [
    {
     "cell_type": "markdown",
     "metadata": {},
     "source": [
      "#Esercizio 1"
     ]
    },
    {
     "cell_type": "markdown",
     "metadata": {},
     "source": [
      "##Dato un array di interi, restituire la loro somma fino a che non viene ritrovato un valore negativo.\n",
      "> algoritmo iterativo"
     ]
    },
    {
     "cell_type": "code",
     "collapsed": false,
     "input": [
      "function sumAllPositive(array) {\n",
      "    tot = 0;\n",
      "    for(i = 0; i < array.length; i++) {\n",
      "        tot = tot + array[i];\n",
      "    }\n",
      "    if (tot >= 0) {\n",
      "        return tot;\n",
      "    } else {\n",
      "        return null;\n",
      "    }\n",
      "}"
     ],
     "language": "python",
     "metadata": {},
     "outputs": [
      {
       "metadata": {},
       "output_type": "pyout",
       "prompt_number": 3,
       "text": [
        "undefined"
       ]
      }
     ],
     "prompt_number": 3
    },
    {
     "cell_type": "code",
     "collapsed": false,
     "input": [
      "a = [-80, -90, -5, 25]"
     ],
     "language": "python",
     "metadata": {},
     "outputs": [
      {
       "metadata": {},
       "output_type": "pyout",
       "prompt_number": 4,
       "text": [
        "[ -80, -90, -5, 25 ]"
       ]
      }
     ],
     "prompt_number": 4
    },
    {
     "cell_type": "code",
     "collapsed": false,
     "input": [
      "b = [2,80,6,-10]"
     ],
     "language": "python",
     "metadata": {},
     "outputs": [
      {
       "metadata": {},
       "output_type": "pyout",
       "prompt_number": 25,
       "text": [
        "[ 2, 80, 6, -10 ]"
       ]
      }
     ],
     "prompt_number": 25
    },
    {
     "cell_type": "markdown",
     "metadata": {},
     "source": [
      "> algoritmo ricorsivo"
     ]
    },
    {
     "cell_type": "code",
     "collapsed": false,
     "input": [
      "function sumAllPositiveR(array) {\n",
      "    if(array.length == 0) {\n",
      "        return 0;\n",
      "    } else {\n",
      "        tot = array[0] + sumAllPositiveR(array.slice(1));\n",
      "        if(tot >= 0) {\n",
      "            return tot;\n",
      "        }\n",
      "        return null;\n",
      "    }\n",
      "  \n",
      "}"
     ],
     "language": "python",
     "metadata": {},
     "outputs": [
      {
       "metadata": {},
       "output_type": "pyout",
       "prompt_number": 22,
       "text": [
        "undefined"
       ]
      }
     ],
     "prompt_number": 22
    },
    {
     "cell_type": "code",
     "collapsed": false,
     "input": [
      "sumAllPositiveR(a)"
     ],
     "language": "python",
     "metadata": {},
     "outputs": [
      {
       "metadata": {},
       "output_type": "pyout",
       "prompt_number": 23,
       "text": [
        "null"
       ]
      }
     ],
     "prompt_number": 23
    },
    {
     "cell_type": "code",
     "collapsed": false,
     "input": [
      "sumAllPositiveR(b) // ma com'\u00e8 possibile che un calcolatore non riconosca il segno meno?"
     ],
     "language": "python",
     "metadata": {},
     "outputs": [
      {
       "metadata": {},
       "output_type": "pyout",
       "prompt_number": 26,
       "text": [
        "88"
       ]
      }
     ],
     "prompt_number": 26
    },
    {
     "cell_type": "markdown",
     "metadata": {},
     "source": [
      "# Esercizio 2"
     ]
    },
    {
     "cell_type": "markdown",
     "metadata": {},
     "source": [
      "##Dato un numero n, restituire la somma dei primi n numeri interi positivi dispari"
     ]
    },
    {
     "cell_type": "markdown",
     "metadata": {},
     "source": [
      ">algoritmo iterativo"
     ]
    },
    {
     "cell_type": "code",
     "collapsed": false,
     "input": [
      "function sumOdd(n) {\n",
      "    tot = 0;\n",
      "    odd = 0;\n",
      "    for(i = 0; odd < n; i++){\n",
      "        if(i % 2 != 0){\n",
      "            tot = tot + i;\n",
      "            odd++;\n",
      "            console.log(tot);\n",
      "        } \n",
      "        \n",
      "    }\n",
      "    return tot;\n",
      "}    "
     ],
     "language": "python",
     "metadata": {},
     "outputs": [
      {
       "metadata": {},
       "output_type": "pyout",
       "prompt_number": 48,
       "text": [
        "undefined"
       ]
      }
     ],
     "prompt_number": 48
    },
    {
     "cell_type": "code",
     "collapsed": false,
     "input": [
      "sumOdd(5)"
     ],
     "language": "python",
     "metadata": {},
     "outputs": [
      {
       "output_type": "stream",
       "stream": "stdout",
       "text": [
        "1\n",
        "4\n",
        "9\n",
        "16\n",
        "25\n"
       ]
      },
      {
       "metadata": {},
       "output_type": "pyout",
       "prompt_number": 49,
       "text": [
        "25"
       ]
      }
     ],
     "prompt_number": 49
    },
    {
     "cell_type": "markdown",
     "metadata": {},
     "source": [
      "> algoritmo ricorsivo"
     ]
    },
    {
     "cell_type": "code",
     "collapsed": false,
     "input": [
      "function sumOddR(n) {\n",
      "    if(n == 0) {\n",
      "        return 0;\n",
      "    } else {\n",
      "        tot = 0;\n",
      "        \n",
      "        if(n % 2 != 0) {\n",
      "            \n",
      "}"
     ],
     "language": "python",
     "metadata": {},
     "outputs": [],
     "prompt_number": "*"
    },
    {
     "cell_type": "code",
     "collapsed": false,
     "input": [
      "sumOddR(5)"
     ],
     "language": "python",
     "metadata": {},
     "outputs": [],
     "prompt_number": "*"
    },
    {
     "cell_type": "code",
     "collapsed": false,
     "input": [],
     "language": "python",
     "metadata": {},
     "outputs": []
    }
   ],
   "metadata": {}
  }
 ]
}